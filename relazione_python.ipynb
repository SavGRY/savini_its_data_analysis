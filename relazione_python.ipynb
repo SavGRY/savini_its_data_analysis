{
 "cells": [
  {
   "cell_type": "code",
   "execution_count": 19,
   "metadata": {
    "pycharm": {
     "name": "#%%\n"
    }
   },
   "outputs": [],
   "source": [
    "import numpy as np \n",
    "import pandas as pd\n",
    "import matplotlib.pyplot as plt\n"
   ]
  },
  {
   "cell_type": "code",
   "execution_count": 20,
   "metadata": {
    "pycharm": {
     "name": "#%%\n"
    }
   },
   "outputs": [
    {
     "data": {
      "text/plain": "'1.23.4'"
     },
     "execution_count": 20,
     "metadata": {},
     "output_type": "execute_result"
    }
   ],
   "source": [
    "np.version.version"
   ]
  },
  {
   "cell_type": "code",
   "execution_count": 21,
   "metadata": {
    "pycharm": {
     "name": "#%%\n"
    }
   },
   "outputs": [
    {
     "data": {
      "text/plain": "'1.5.1'"
     },
     "execution_count": 21,
     "metadata": {},
     "output_type": "execute_result"
    }
   ],
   "source": [
    "pd.__version__"
   ]
  },
  {
   "cell_type": "code",
   "execution_count": 22,
   "outputs": [],
   "source": [
    "df = pd.read_csv('CSV/pokedex_(Update_05.20).csv', index_col=0)"
   ],
   "metadata": {
    "collapsed": false,
    "pycharm": {
     "name": "#%%\n"
    }
   }
  },
  {
   "cell_type": "code",
   "execution_count": 23,
   "outputs": [
    {
     "data": {
      "text/plain": "      pokedex_number                            name german_name  \\\n0                  1                       Bulbasaur     Bisasam   \n1                  2                         Ivysaur   Bisaknosp   \n2                  3                        Venusaur    Bisaflor   \n3                  3                   Mega Venusaur    Bisaflor   \n4                  4                      Charmander    Glumanda   \n...              ...                             ...         ...   \n1023             888     Zacian Hero of Many Battles         NaN   \n1024             889        Zamazenta Crowned Shield         NaN   \n1025             889  Zamazenta Hero of Many Battles         NaN   \n1026             890                       Eternatus         NaN   \n1027             890             Eternatus Eternamax         NaN   \n\n            japanese_name  generation     status           species  \\\n0     フシギダネ (Fushigidane)           1     Normal      Seed Pokémon   \n1      フシギソウ (Fushigisou)           1     Normal      Seed Pokémon   \n2     フシギバナ (Fushigibana)           1     Normal      Seed Pokémon   \n3     フシギバナ (Fushigibana)           1     Normal      Seed Pokémon   \n4         ヒトカゲ (Hitokage)           1     Normal    Lizard Pokémon   \n...                   ...         ...        ...               ...   \n1023                  NaN           8  Legendary   Warrior Pokémon   \n1024                  NaN           8  Legendary   Warrior Pokémon   \n1025                  NaN           8  Legendary   Warrior Pokémon   \n1026                  NaN           8  Legendary  Gigantic Pokémon   \n1027                  NaN           8  Legendary  Gigantic Pokémon   \n\n      type_number    type_1  type_2  ...  against_ground  against_flying  \\\n0               2     Grass  Poison  ...             1.0             2.0   \n1               2     Grass  Poison  ...             1.0             2.0   \n2               2     Grass  Poison  ...             1.0             2.0   \n3               2     Grass  Poison  ...             1.0             2.0   \n4               1      Fire     NaN  ...             2.0             1.0   \n...           ...       ...     ...  ...             ...             ...   \n1023            1     Fairy     NaN  ...             1.0             1.0   \n1024            2  Fighting   Steel  ...             2.0             1.0   \n1025            1  Fighting     NaN  ...             1.0             2.0   \n1026            2    Poison  Dragon  ...             2.0             1.0   \n1027            2    Poison  Dragon  ...             2.0             1.0   \n\n      against_psychic against_bug against_rock against_ghost  against_dragon  \\\n0                 2.0        1.00         1.00           1.0             1.0   \n1                 2.0        1.00         1.00           1.0             1.0   \n2                 2.0        1.00         1.00           1.0             1.0   \n3                 2.0        1.00         1.00           1.0             1.0   \n4                 1.0        0.50         2.00           1.0             1.0   \n...               ...         ...          ...           ...             ...   \n1023              1.0        0.50         1.00           1.0             0.0   \n1024              1.0        0.25         0.25           1.0             0.5   \n1025              2.0        0.50         0.50           1.0             1.0   \n1026              2.0        0.50         1.00           1.0             2.0   \n1027              2.0        0.50         1.00           1.0             2.0   \n\n      against_dark  against_steel  against_fairy  \n0              1.0            1.0            0.5  \n1              1.0            1.0            0.5  \n2              1.0            1.0            0.5  \n3              1.0            1.0            0.5  \n4              1.0            0.5            0.5  \n...            ...            ...            ...  \n1023           0.5            2.0            1.0  \n1024           0.5            0.5            1.0  \n1025           0.5            1.0            2.0  \n1026           1.0            1.0            1.0  \n1027           1.0            1.0            1.0  \n\n[1028 rows x 50 columns]",
      "text/html": "<div>\n<style scoped>\n    .dataframe tbody tr th:only-of-type {\n        vertical-align: middle;\n    }\n\n    .dataframe tbody tr th {\n        vertical-align: top;\n    }\n\n    .dataframe thead th {\n        text-align: right;\n    }\n</style>\n<table border=\"1\" class=\"dataframe\">\n  <thead>\n    <tr style=\"text-align: right;\">\n      <th></th>\n      <th>pokedex_number</th>\n      <th>name</th>\n      <th>german_name</th>\n      <th>japanese_name</th>\n      <th>generation</th>\n      <th>status</th>\n      <th>species</th>\n      <th>type_number</th>\n      <th>type_1</th>\n      <th>type_2</th>\n      <th>...</th>\n      <th>against_ground</th>\n      <th>against_flying</th>\n      <th>against_psychic</th>\n      <th>against_bug</th>\n      <th>against_rock</th>\n      <th>against_ghost</th>\n      <th>against_dragon</th>\n      <th>against_dark</th>\n      <th>against_steel</th>\n      <th>against_fairy</th>\n    </tr>\n  </thead>\n  <tbody>\n    <tr>\n      <th>0</th>\n      <td>1</td>\n      <td>Bulbasaur</td>\n      <td>Bisasam</td>\n      <td>フシギダネ (Fushigidane)</td>\n      <td>1</td>\n      <td>Normal</td>\n      <td>Seed Pokémon</td>\n      <td>2</td>\n      <td>Grass</td>\n      <td>Poison</td>\n      <td>...</td>\n      <td>1.0</td>\n      <td>2.0</td>\n      <td>2.0</td>\n      <td>1.00</td>\n      <td>1.00</td>\n      <td>1.0</td>\n      <td>1.0</td>\n      <td>1.0</td>\n      <td>1.0</td>\n      <td>0.5</td>\n    </tr>\n    <tr>\n      <th>1</th>\n      <td>2</td>\n      <td>Ivysaur</td>\n      <td>Bisaknosp</td>\n      <td>フシギソウ (Fushigisou)</td>\n      <td>1</td>\n      <td>Normal</td>\n      <td>Seed Pokémon</td>\n      <td>2</td>\n      <td>Grass</td>\n      <td>Poison</td>\n      <td>...</td>\n      <td>1.0</td>\n      <td>2.0</td>\n      <td>2.0</td>\n      <td>1.00</td>\n      <td>1.00</td>\n      <td>1.0</td>\n      <td>1.0</td>\n      <td>1.0</td>\n      <td>1.0</td>\n      <td>0.5</td>\n    </tr>\n    <tr>\n      <th>2</th>\n      <td>3</td>\n      <td>Venusaur</td>\n      <td>Bisaflor</td>\n      <td>フシギバナ (Fushigibana)</td>\n      <td>1</td>\n      <td>Normal</td>\n      <td>Seed Pokémon</td>\n      <td>2</td>\n      <td>Grass</td>\n      <td>Poison</td>\n      <td>...</td>\n      <td>1.0</td>\n      <td>2.0</td>\n      <td>2.0</td>\n      <td>1.00</td>\n      <td>1.00</td>\n      <td>1.0</td>\n      <td>1.0</td>\n      <td>1.0</td>\n      <td>1.0</td>\n      <td>0.5</td>\n    </tr>\n    <tr>\n      <th>3</th>\n      <td>3</td>\n      <td>Mega Venusaur</td>\n      <td>Bisaflor</td>\n      <td>フシギバナ (Fushigibana)</td>\n      <td>1</td>\n      <td>Normal</td>\n      <td>Seed Pokémon</td>\n      <td>2</td>\n      <td>Grass</td>\n      <td>Poison</td>\n      <td>...</td>\n      <td>1.0</td>\n      <td>2.0</td>\n      <td>2.0</td>\n      <td>1.00</td>\n      <td>1.00</td>\n      <td>1.0</td>\n      <td>1.0</td>\n      <td>1.0</td>\n      <td>1.0</td>\n      <td>0.5</td>\n    </tr>\n    <tr>\n      <th>4</th>\n      <td>4</td>\n      <td>Charmander</td>\n      <td>Glumanda</td>\n      <td>ヒトカゲ (Hitokage)</td>\n      <td>1</td>\n      <td>Normal</td>\n      <td>Lizard Pokémon</td>\n      <td>1</td>\n      <td>Fire</td>\n      <td>NaN</td>\n      <td>...</td>\n      <td>2.0</td>\n      <td>1.0</td>\n      <td>1.0</td>\n      <td>0.50</td>\n      <td>2.00</td>\n      <td>1.0</td>\n      <td>1.0</td>\n      <td>1.0</td>\n      <td>0.5</td>\n      <td>0.5</td>\n    </tr>\n    <tr>\n      <th>...</th>\n      <td>...</td>\n      <td>...</td>\n      <td>...</td>\n      <td>...</td>\n      <td>...</td>\n      <td>...</td>\n      <td>...</td>\n      <td>...</td>\n      <td>...</td>\n      <td>...</td>\n      <td>...</td>\n      <td>...</td>\n      <td>...</td>\n      <td>...</td>\n      <td>...</td>\n      <td>...</td>\n      <td>...</td>\n      <td>...</td>\n      <td>...</td>\n      <td>...</td>\n      <td>...</td>\n    </tr>\n    <tr>\n      <th>1023</th>\n      <td>888</td>\n      <td>Zacian Hero of Many Battles</td>\n      <td>NaN</td>\n      <td>NaN</td>\n      <td>8</td>\n      <td>Legendary</td>\n      <td>Warrior Pokémon</td>\n      <td>1</td>\n      <td>Fairy</td>\n      <td>NaN</td>\n      <td>...</td>\n      <td>1.0</td>\n      <td>1.0</td>\n      <td>1.0</td>\n      <td>0.50</td>\n      <td>1.00</td>\n      <td>1.0</td>\n      <td>0.0</td>\n      <td>0.5</td>\n      <td>2.0</td>\n      <td>1.0</td>\n    </tr>\n    <tr>\n      <th>1024</th>\n      <td>889</td>\n      <td>Zamazenta Crowned Shield</td>\n      <td>NaN</td>\n      <td>NaN</td>\n      <td>8</td>\n      <td>Legendary</td>\n      <td>Warrior Pokémon</td>\n      <td>2</td>\n      <td>Fighting</td>\n      <td>Steel</td>\n      <td>...</td>\n      <td>2.0</td>\n      <td>1.0</td>\n      <td>1.0</td>\n      <td>0.25</td>\n      <td>0.25</td>\n      <td>1.0</td>\n      <td>0.5</td>\n      <td>0.5</td>\n      <td>0.5</td>\n      <td>1.0</td>\n    </tr>\n    <tr>\n      <th>1025</th>\n      <td>889</td>\n      <td>Zamazenta Hero of Many Battles</td>\n      <td>NaN</td>\n      <td>NaN</td>\n      <td>8</td>\n      <td>Legendary</td>\n      <td>Warrior Pokémon</td>\n      <td>1</td>\n      <td>Fighting</td>\n      <td>NaN</td>\n      <td>...</td>\n      <td>1.0</td>\n      <td>2.0</td>\n      <td>2.0</td>\n      <td>0.50</td>\n      <td>0.50</td>\n      <td>1.0</td>\n      <td>1.0</td>\n      <td>0.5</td>\n      <td>1.0</td>\n      <td>2.0</td>\n    </tr>\n    <tr>\n      <th>1026</th>\n      <td>890</td>\n      <td>Eternatus</td>\n      <td>NaN</td>\n      <td>NaN</td>\n      <td>8</td>\n      <td>Legendary</td>\n      <td>Gigantic Pokémon</td>\n      <td>2</td>\n      <td>Poison</td>\n      <td>Dragon</td>\n      <td>...</td>\n      <td>2.0</td>\n      <td>1.0</td>\n      <td>2.0</td>\n      <td>0.50</td>\n      <td>1.00</td>\n      <td>1.0</td>\n      <td>2.0</td>\n      <td>1.0</td>\n      <td>1.0</td>\n      <td>1.0</td>\n    </tr>\n    <tr>\n      <th>1027</th>\n      <td>890</td>\n      <td>Eternatus Eternamax</td>\n      <td>NaN</td>\n      <td>NaN</td>\n      <td>8</td>\n      <td>Legendary</td>\n      <td>Gigantic Pokémon</td>\n      <td>2</td>\n      <td>Poison</td>\n      <td>Dragon</td>\n      <td>...</td>\n      <td>2.0</td>\n      <td>1.0</td>\n      <td>2.0</td>\n      <td>0.50</td>\n      <td>1.00</td>\n      <td>1.0</td>\n      <td>2.0</td>\n      <td>1.0</td>\n      <td>1.0</td>\n      <td>1.0</td>\n    </tr>\n  </tbody>\n</table>\n<p>1028 rows × 50 columns</p>\n</div>"
     },
     "execution_count": 23,
     "metadata": {},
     "output_type": "execute_result"
    }
   ],
   "source": [
    "df"
   ],
   "metadata": {
    "collapsed": false,
    "pycharm": {
     "name": "#%%\n"
    }
   }
  },
  {
   "cell_type": "code",
   "execution_count": 108,
   "outputs": [],
   "source": [
    "col_names = [\n",
    "    'pokedex_number', 'name', 'generation',\n",
    "    'status', 'type_number', 'type_1',\n",
    "    'type_2', 'height_m', 'weight_kg',\n",
    "    'abilities_number', 'ability_1', 'ability_2',\n",
    "    'ability_hidden', 'total_points', 'hp',\n",
    "    'attack', 'defense', 'sp_attack',\n",
    "    'sp_defense', 'speed', 'catch_rate',\n",
    "    'base_experience', 'percentage_male'\n",
    "]"
   ],
   "metadata": {
    "collapsed": false,
    "pycharm": {
     "name": "#%%\n"
    }
   }
  },
  {
   "cell_type": "code",
   "execution_count": 109,
   "outputs": [],
   "source": [
    "filtered_pokemon_data = pd.DataFrame(df, columns=col_names)"
   ],
   "metadata": {
    "collapsed": false,
    "pycharm": {
     "name": "#%%\n"
    }
   }
  },
  {
   "cell_type": "code",
   "execution_count": 110,
   "outputs": [
    {
     "data": {
      "text/plain": "      pokedex_number                            name  generation     status  \\\n0                  1                       Bulbasaur           1     Normal   \n1                  2                         Ivysaur           1     Normal   \n2                  3                        Venusaur           1     Normal   \n3                  3                   Mega Venusaur           1     Normal   \n4                  4                      Charmander           1     Normal   \n...              ...                             ...         ...        ...   \n1023             888     Zacian Hero of Many Battles           8  Legendary   \n1024             889        Zamazenta Crowned Shield           8  Legendary   \n1025             889  Zamazenta Hero of Many Battles           8  Legendary   \n1026             890                       Eternatus           8  Legendary   \n1027             890             Eternatus Eternamax           8  Legendary   \n\n      type_number    type_1  type_2  height_m  weight_kg  abilities_number  \\\n0               2     Grass  Poison       0.7        6.9                 2   \n1               2     Grass  Poison       1.0       13.0                 2   \n2               2     Grass  Poison       2.0      100.0                 2   \n3               2     Grass  Poison       2.4      155.5                 1   \n4               1      Fire     NaN       0.6        8.5                 2   \n...           ...       ...     ...       ...        ...               ...   \n1023            1     Fairy     NaN       2.8      110.0                 1   \n1024            2  Fighting   Steel       2.9      785.0                 1   \n1025            1  Fighting     NaN       2.9      210.0                 1   \n1026            2    Poison  Dragon      20.0      950.0                 1   \n1027            2    Poison  Dragon     100.0        NaN                 0   \n\n      ... total_points     hp attack  defense  sp_attack  sp_defense  speed  \\\n0     ...        318.0   45.0   49.0     49.0       65.0        65.0   45.0   \n1     ...        405.0   60.0   62.0     63.0       80.0        80.0   60.0   \n2     ...        525.0   80.0   82.0     83.0      100.0       100.0   80.0   \n3     ...        625.0   80.0  100.0    123.0      122.0       120.0   80.0   \n4     ...        309.0   39.0   52.0     43.0       60.0        50.0   65.0   \n...   ...          ...    ...    ...      ...        ...         ...    ...   \n1023  ...        670.0   92.0  130.0    115.0       80.0       115.0  138.0   \n1024  ...        720.0   92.0  130.0    145.0       80.0       145.0  128.0   \n1025  ...        670.0   92.0  130.0    115.0       80.0       115.0  138.0   \n1026  ...        690.0  140.0   85.0     95.0      145.0        95.0  130.0   \n1027  ...       1125.0  255.0  115.0    250.0      125.0       250.0  130.0   \n\n      catch_rate  base_experience  percentage_male  \n0           45.0             64.0             87.5  \n1           45.0            142.0             87.5  \n2           45.0            236.0             87.5  \n3           45.0            281.0             87.5  \n4           45.0             62.0             87.5  \n...          ...              ...              ...  \n1023         NaN              NaN              NaN  \n1024         NaN              NaN              NaN  \n1025         NaN              NaN              NaN  \n1026         NaN              NaN              NaN  \n1027         NaN              NaN              NaN  \n\n[1028 rows x 23 columns]",
      "text/html": "<div>\n<style scoped>\n    .dataframe tbody tr th:only-of-type {\n        vertical-align: middle;\n    }\n\n    .dataframe tbody tr th {\n        vertical-align: top;\n    }\n\n    .dataframe thead th {\n        text-align: right;\n    }\n</style>\n<table border=\"1\" class=\"dataframe\">\n  <thead>\n    <tr style=\"text-align: right;\">\n      <th></th>\n      <th>pokedex_number</th>\n      <th>name</th>\n      <th>generation</th>\n      <th>status</th>\n      <th>type_number</th>\n      <th>type_1</th>\n      <th>type_2</th>\n      <th>height_m</th>\n      <th>weight_kg</th>\n      <th>abilities_number</th>\n      <th>...</th>\n      <th>total_points</th>\n      <th>hp</th>\n      <th>attack</th>\n      <th>defense</th>\n      <th>sp_attack</th>\n      <th>sp_defense</th>\n      <th>speed</th>\n      <th>catch_rate</th>\n      <th>base_experience</th>\n      <th>percentage_male</th>\n    </tr>\n  </thead>\n  <tbody>\n    <tr>\n      <th>0</th>\n      <td>1</td>\n      <td>Bulbasaur</td>\n      <td>1</td>\n      <td>Normal</td>\n      <td>2</td>\n      <td>Grass</td>\n      <td>Poison</td>\n      <td>0.7</td>\n      <td>6.9</td>\n      <td>2</td>\n      <td>...</td>\n      <td>318.0</td>\n      <td>45.0</td>\n      <td>49.0</td>\n      <td>49.0</td>\n      <td>65.0</td>\n      <td>65.0</td>\n      <td>45.0</td>\n      <td>45.0</td>\n      <td>64.0</td>\n      <td>87.5</td>\n    </tr>\n    <tr>\n      <th>1</th>\n      <td>2</td>\n      <td>Ivysaur</td>\n      <td>1</td>\n      <td>Normal</td>\n      <td>2</td>\n      <td>Grass</td>\n      <td>Poison</td>\n      <td>1.0</td>\n      <td>13.0</td>\n      <td>2</td>\n      <td>...</td>\n      <td>405.0</td>\n      <td>60.0</td>\n      <td>62.0</td>\n      <td>63.0</td>\n      <td>80.0</td>\n      <td>80.0</td>\n      <td>60.0</td>\n      <td>45.0</td>\n      <td>142.0</td>\n      <td>87.5</td>\n    </tr>\n    <tr>\n      <th>2</th>\n      <td>3</td>\n      <td>Venusaur</td>\n      <td>1</td>\n      <td>Normal</td>\n      <td>2</td>\n      <td>Grass</td>\n      <td>Poison</td>\n      <td>2.0</td>\n      <td>100.0</td>\n      <td>2</td>\n      <td>...</td>\n      <td>525.0</td>\n      <td>80.0</td>\n      <td>82.0</td>\n      <td>83.0</td>\n      <td>100.0</td>\n      <td>100.0</td>\n      <td>80.0</td>\n      <td>45.0</td>\n      <td>236.0</td>\n      <td>87.5</td>\n    </tr>\n    <tr>\n      <th>3</th>\n      <td>3</td>\n      <td>Mega Venusaur</td>\n      <td>1</td>\n      <td>Normal</td>\n      <td>2</td>\n      <td>Grass</td>\n      <td>Poison</td>\n      <td>2.4</td>\n      <td>155.5</td>\n      <td>1</td>\n      <td>...</td>\n      <td>625.0</td>\n      <td>80.0</td>\n      <td>100.0</td>\n      <td>123.0</td>\n      <td>122.0</td>\n      <td>120.0</td>\n      <td>80.0</td>\n      <td>45.0</td>\n      <td>281.0</td>\n      <td>87.5</td>\n    </tr>\n    <tr>\n      <th>4</th>\n      <td>4</td>\n      <td>Charmander</td>\n      <td>1</td>\n      <td>Normal</td>\n      <td>1</td>\n      <td>Fire</td>\n      <td>NaN</td>\n      <td>0.6</td>\n      <td>8.5</td>\n      <td>2</td>\n      <td>...</td>\n      <td>309.0</td>\n      <td>39.0</td>\n      <td>52.0</td>\n      <td>43.0</td>\n      <td>60.0</td>\n      <td>50.0</td>\n      <td>65.0</td>\n      <td>45.0</td>\n      <td>62.0</td>\n      <td>87.5</td>\n    </tr>\n    <tr>\n      <th>...</th>\n      <td>...</td>\n      <td>...</td>\n      <td>...</td>\n      <td>...</td>\n      <td>...</td>\n      <td>...</td>\n      <td>...</td>\n      <td>...</td>\n      <td>...</td>\n      <td>...</td>\n      <td>...</td>\n      <td>...</td>\n      <td>...</td>\n      <td>...</td>\n      <td>...</td>\n      <td>...</td>\n      <td>...</td>\n      <td>...</td>\n      <td>...</td>\n      <td>...</td>\n      <td>...</td>\n    </tr>\n    <tr>\n      <th>1023</th>\n      <td>888</td>\n      <td>Zacian Hero of Many Battles</td>\n      <td>8</td>\n      <td>Legendary</td>\n      <td>1</td>\n      <td>Fairy</td>\n      <td>NaN</td>\n      <td>2.8</td>\n      <td>110.0</td>\n      <td>1</td>\n      <td>...</td>\n      <td>670.0</td>\n      <td>92.0</td>\n      <td>130.0</td>\n      <td>115.0</td>\n      <td>80.0</td>\n      <td>115.0</td>\n      <td>138.0</td>\n      <td>NaN</td>\n      <td>NaN</td>\n      <td>NaN</td>\n    </tr>\n    <tr>\n      <th>1024</th>\n      <td>889</td>\n      <td>Zamazenta Crowned Shield</td>\n      <td>8</td>\n      <td>Legendary</td>\n      <td>2</td>\n      <td>Fighting</td>\n      <td>Steel</td>\n      <td>2.9</td>\n      <td>785.0</td>\n      <td>1</td>\n      <td>...</td>\n      <td>720.0</td>\n      <td>92.0</td>\n      <td>130.0</td>\n      <td>145.0</td>\n      <td>80.0</td>\n      <td>145.0</td>\n      <td>128.0</td>\n      <td>NaN</td>\n      <td>NaN</td>\n      <td>NaN</td>\n    </tr>\n    <tr>\n      <th>1025</th>\n      <td>889</td>\n      <td>Zamazenta Hero of Many Battles</td>\n      <td>8</td>\n      <td>Legendary</td>\n      <td>1</td>\n      <td>Fighting</td>\n      <td>NaN</td>\n      <td>2.9</td>\n      <td>210.0</td>\n      <td>1</td>\n      <td>...</td>\n      <td>670.0</td>\n      <td>92.0</td>\n      <td>130.0</td>\n      <td>115.0</td>\n      <td>80.0</td>\n      <td>115.0</td>\n      <td>138.0</td>\n      <td>NaN</td>\n      <td>NaN</td>\n      <td>NaN</td>\n    </tr>\n    <tr>\n      <th>1026</th>\n      <td>890</td>\n      <td>Eternatus</td>\n      <td>8</td>\n      <td>Legendary</td>\n      <td>2</td>\n      <td>Poison</td>\n      <td>Dragon</td>\n      <td>20.0</td>\n      <td>950.0</td>\n      <td>1</td>\n      <td>...</td>\n      <td>690.0</td>\n      <td>140.0</td>\n      <td>85.0</td>\n      <td>95.0</td>\n      <td>145.0</td>\n      <td>95.0</td>\n      <td>130.0</td>\n      <td>NaN</td>\n      <td>NaN</td>\n      <td>NaN</td>\n    </tr>\n    <tr>\n      <th>1027</th>\n      <td>890</td>\n      <td>Eternatus Eternamax</td>\n      <td>8</td>\n      <td>Legendary</td>\n      <td>2</td>\n      <td>Poison</td>\n      <td>Dragon</td>\n      <td>100.0</td>\n      <td>NaN</td>\n      <td>0</td>\n      <td>...</td>\n      <td>1125.0</td>\n      <td>255.0</td>\n      <td>115.0</td>\n      <td>250.0</td>\n      <td>125.0</td>\n      <td>250.0</td>\n      <td>130.0</td>\n      <td>NaN</td>\n      <td>NaN</td>\n      <td>NaN</td>\n    </tr>\n  </tbody>\n</table>\n<p>1028 rows × 23 columns</p>\n</div>"
     },
     "execution_count": 110,
     "metadata": {},
     "output_type": "execute_result"
    }
   ],
   "source": [
    "filtered_pokemon_data"
   ],
   "metadata": {
    "collapsed": false,
    "pycharm": {
     "name": "#%%\n"
    }
   }
  },
  {
   "cell_type": "code",
   "execution_count": 111,
   "outputs": [
    {
     "data": {
      "text/plain": "      pokedex_number                            name  date_published  \\\n0                  1                       Bulbasaur            1996   \n1                  2                         Ivysaur            1996   \n2                  3                        Venusaur            1996   \n3                  3                   Mega Venusaur            1996   \n4                  4                      Charmander            1996   \n...              ...                             ...             ...   \n1023             888     Zacian Hero of Many Battles            2019   \n1024             889        Zamazenta Crowned Shield            2019   \n1025             889  Zamazenta Hero of Many Battles            2019   \n1026             890                       Eternatus            2019   \n1027             890             Eternatus Eternamax            2019   \n\n      generation     status  type_number    type_1  type_2  height_m  \\\n0              1     Normal            2     Grass  Poison       0.7   \n1              1     Normal            2     Grass  Poison       1.0   \n2              1     Normal            2     Grass  Poison       2.0   \n3              1     Normal            2     Grass  Poison       2.4   \n4              1     Normal            1      Fire     NaN       0.6   \n...          ...        ...          ...       ...     ...       ...   \n1023           8  Legendary            1     Fairy     NaN       2.8   \n1024           8  Legendary            2  Fighting   Steel       2.9   \n1025           8  Legendary            1  Fighting     NaN       2.9   \n1026           8  Legendary            2    Poison  Dragon      20.0   \n1027           8  Legendary            2    Poison  Dragon     100.0   \n\n      weight_kg  ...  total_points     hp attack defense  sp_attack  \\\n0           6.9  ...         318.0   45.0   49.0    49.0       65.0   \n1          13.0  ...         405.0   60.0   62.0    63.0       80.0   \n2         100.0  ...         525.0   80.0   82.0    83.0      100.0   \n3         155.5  ...         625.0   80.0  100.0   123.0      122.0   \n4           8.5  ...         309.0   39.0   52.0    43.0       60.0   \n...         ...  ...           ...    ...    ...     ...        ...   \n1023      110.0  ...         670.0   92.0  130.0   115.0       80.0   \n1024      785.0  ...         720.0   92.0  130.0   145.0       80.0   \n1025      210.0  ...         670.0   92.0  130.0   115.0       80.0   \n1026      950.0  ...         690.0  140.0   85.0    95.0      145.0   \n1027        NaN  ...        1125.0  255.0  115.0   250.0      125.0   \n\n      sp_defense  speed  catch_rate  base_experience  percentage_male  \n0           65.0   45.0        45.0             64.0             87.5  \n1           80.0   60.0        45.0            142.0             87.5  \n2          100.0   80.0        45.0            236.0             87.5  \n3          120.0   80.0        45.0            281.0             87.5  \n4           50.0   65.0        45.0             62.0             87.5  \n...          ...    ...         ...              ...              ...  \n1023       115.0  138.0         NaN              NaN              NaN  \n1024       145.0  128.0         NaN              NaN              NaN  \n1025       115.0  138.0         NaN              NaN              NaN  \n1026        95.0  130.0         NaN              NaN              NaN  \n1027       250.0  130.0         NaN              NaN              NaN  \n\n[1028 rows x 24 columns]",
      "text/html": "<div>\n<style scoped>\n    .dataframe tbody tr th:only-of-type {\n        vertical-align: middle;\n    }\n\n    .dataframe tbody tr th {\n        vertical-align: top;\n    }\n\n    .dataframe thead th {\n        text-align: right;\n    }\n</style>\n<table border=\"1\" class=\"dataframe\">\n  <thead>\n    <tr style=\"text-align: right;\">\n      <th></th>\n      <th>pokedex_number</th>\n      <th>name</th>\n      <th>date_published</th>\n      <th>generation</th>\n      <th>status</th>\n      <th>type_number</th>\n      <th>type_1</th>\n      <th>type_2</th>\n      <th>height_m</th>\n      <th>weight_kg</th>\n      <th>...</th>\n      <th>total_points</th>\n      <th>hp</th>\n      <th>attack</th>\n      <th>defense</th>\n      <th>sp_attack</th>\n      <th>sp_defense</th>\n      <th>speed</th>\n      <th>catch_rate</th>\n      <th>base_experience</th>\n      <th>percentage_male</th>\n    </tr>\n  </thead>\n  <tbody>\n    <tr>\n      <th>0</th>\n      <td>1</td>\n      <td>Bulbasaur</td>\n      <td>1996</td>\n      <td>1</td>\n      <td>Normal</td>\n      <td>2</td>\n      <td>Grass</td>\n      <td>Poison</td>\n      <td>0.7</td>\n      <td>6.9</td>\n      <td>...</td>\n      <td>318.0</td>\n      <td>45.0</td>\n      <td>49.0</td>\n      <td>49.0</td>\n      <td>65.0</td>\n      <td>65.0</td>\n      <td>45.0</td>\n      <td>45.0</td>\n      <td>64.0</td>\n      <td>87.5</td>\n    </tr>\n    <tr>\n      <th>1</th>\n      <td>2</td>\n      <td>Ivysaur</td>\n      <td>1996</td>\n      <td>1</td>\n      <td>Normal</td>\n      <td>2</td>\n      <td>Grass</td>\n      <td>Poison</td>\n      <td>1.0</td>\n      <td>13.0</td>\n      <td>...</td>\n      <td>405.0</td>\n      <td>60.0</td>\n      <td>62.0</td>\n      <td>63.0</td>\n      <td>80.0</td>\n      <td>80.0</td>\n      <td>60.0</td>\n      <td>45.0</td>\n      <td>142.0</td>\n      <td>87.5</td>\n    </tr>\n    <tr>\n      <th>2</th>\n      <td>3</td>\n      <td>Venusaur</td>\n      <td>1996</td>\n      <td>1</td>\n      <td>Normal</td>\n      <td>2</td>\n      <td>Grass</td>\n      <td>Poison</td>\n      <td>2.0</td>\n      <td>100.0</td>\n      <td>...</td>\n      <td>525.0</td>\n      <td>80.0</td>\n      <td>82.0</td>\n      <td>83.0</td>\n      <td>100.0</td>\n      <td>100.0</td>\n      <td>80.0</td>\n      <td>45.0</td>\n      <td>236.0</td>\n      <td>87.5</td>\n    </tr>\n    <tr>\n      <th>3</th>\n      <td>3</td>\n      <td>Mega Venusaur</td>\n      <td>1996</td>\n      <td>1</td>\n      <td>Normal</td>\n      <td>2</td>\n      <td>Grass</td>\n      <td>Poison</td>\n      <td>2.4</td>\n      <td>155.5</td>\n      <td>...</td>\n      <td>625.0</td>\n      <td>80.0</td>\n      <td>100.0</td>\n      <td>123.0</td>\n      <td>122.0</td>\n      <td>120.0</td>\n      <td>80.0</td>\n      <td>45.0</td>\n      <td>281.0</td>\n      <td>87.5</td>\n    </tr>\n    <tr>\n      <th>4</th>\n      <td>4</td>\n      <td>Charmander</td>\n      <td>1996</td>\n      <td>1</td>\n      <td>Normal</td>\n      <td>1</td>\n      <td>Fire</td>\n      <td>NaN</td>\n      <td>0.6</td>\n      <td>8.5</td>\n      <td>...</td>\n      <td>309.0</td>\n      <td>39.0</td>\n      <td>52.0</td>\n      <td>43.0</td>\n      <td>60.0</td>\n      <td>50.0</td>\n      <td>65.0</td>\n      <td>45.0</td>\n      <td>62.0</td>\n      <td>87.5</td>\n    </tr>\n    <tr>\n      <th>...</th>\n      <td>...</td>\n      <td>...</td>\n      <td>...</td>\n      <td>...</td>\n      <td>...</td>\n      <td>...</td>\n      <td>...</td>\n      <td>...</td>\n      <td>...</td>\n      <td>...</td>\n      <td>...</td>\n      <td>...</td>\n      <td>...</td>\n      <td>...</td>\n      <td>...</td>\n      <td>...</td>\n      <td>...</td>\n      <td>...</td>\n      <td>...</td>\n      <td>...</td>\n      <td>...</td>\n    </tr>\n    <tr>\n      <th>1023</th>\n      <td>888</td>\n      <td>Zacian Hero of Many Battles</td>\n      <td>2019</td>\n      <td>8</td>\n      <td>Legendary</td>\n      <td>1</td>\n      <td>Fairy</td>\n      <td>NaN</td>\n      <td>2.8</td>\n      <td>110.0</td>\n      <td>...</td>\n      <td>670.0</td>\n      <td>92.0</td>\n      <td>130.0</td>\n      <td>115.0</td>\n      <td>80.0</td>\n      <td>115.0</td>\n      <td>138.0</td>\n      <td>NaN</td>\n      <td>NaN</td>\n      <td>NaN</td>\n    </tr>\n    <tr>\n      <th>1024</th>\n      <td>889</td>\n      <td>Zamazenta Crowned Shield</td>\n      <td>2019</td>\n      <td>8</td>\n      <td>Legendary</td>\n      <td>2</td>\n      <td>Fighting</td>\n      <td>Steel</td>\n      <td>2.9</td>\n      <td>785.0</td>\n      <td>...</td>\n      <td>720.0</td>\n      <td>92.0</td>\n      <td>130.0</td>\n      <td>145.0</td>\n      <td>80.0</td>\n      <td>145.0</td>\n      <td>128.0</td>\n      <td>NaN</td>\n      <td>NaN</td>\n      <td>NaN</td>\n    </tr>\n    <tr>\n      <th>1025</th>\n      <td>889</td>\n      <td>Zamazenta Hero of Many Battles</td>\n      <td>2019</td>\n      <td>8</td>\n      <td>Legendary</td>\n      <td>1</td>\n      <td>Fighting</td>\n      <td>NaN</td>\n      <td>2.9</td>\n      <td>210.0</td>\n      <td>...</td>\n      <td>670.0</td>\n      <td>92.0</td>\n      <td>130.0</td>\n      <td>115.0</td>\n      <td>80.0</td>\n      <td>115.0</td>\n      <td>138.0</td>\n      <td>NaN</td>\n      <td>NaN</td>\n      <td>NaN</td>\n    </tr>\n    <tr>\n      <th>1026</th>\n      <td>890</td>\n      <td>Eternatus</td>\n      <td>2019</td>\n      <td>8</td>\n      <td>Legendary</td>\n      <td>2</td>\n      <td>Poison</td>\n      <td>Dragon</td>\n      <td>20.0</td>\n      <td>950.0</td>\n      <td>...</td>\n      <td>690.0</td>\n      <td>140.0</td>\n      <td>85.0</td>\n      <td>95.0</td>\n      <td>145.0</td>\n      <td>95.0</td>\n      <td>130.0</td>\n      <td>NaN</td>\n      <td>NaN</td>\n      <td>NaN</td>\n    </tr>\n    <tr>\n      <th>1027</th>\n      <td>890</td>\n      <td>Eternatus Eternamax</td>\n      <td>2019</td>\n      <td>8</td>\n      <td>Legendary</td>\n      <td>2</td>\n      <td>Poison</td>\n      <td>Dragon</td>\n      <td>100.0</td>\n      <td>NaN</td>\n      <td>...</td>\n      <td>1125.0</td>\n      <td>255.0</td>\n      <td>115.0</td>\n      <td>250.0</td>\n      <td>125.0</td>\n      <td>250.0</td>\n      <td>130.0</td>\n      <td>NaN</td>\n      <td>NaN</td>\n      <td>NaN</td>\n    </tr>\n  </tbody>\n</table>\n<p>1028 rows × 24 columns</p>\n</div>"
     },
     "execution_count": 111,
     "metadata": {},
     "output_type": "execute_result"
    }
   ],
   "source": [
    "# Linking genreration number to publish date (JP)\n",
    "years = [1996, 1999, 2002, 2006, 2010, 2013, 2016, 2019]\n",
    "\n",
    "# inserisco la colonna (sarà la 3°) che si chiamerà date_published passandoli come valore il mapping dato dal\n",
    "# dizionario creato con enumerate (con lista di anni e index)\n",
    "filtered_pokemon_data.insert(2, column='date_published', value=filtered_pokemon_data.generation.map(dict(enumerate(years, start=1))))\n",
    "filtered_pokemon_data.to_csv('filtered_pokemon_data_years.csv', index=False)\n",
    "\n",
    "\n",
    "filtered_pokemon_data"
   ],
   "metadata": {
    "collapsed": false,
    "pycharm": {
     "name": "#%%\n"
    }
   }
  },
  {
   "cell_type": "code",
   "execution_count": 56,
   "outputs": [
    {
     "data": {
      "text/plain": "<Figure size 432x288 with 1 Axes>",
      "image/png": "[encoded data removed]"
     },
     "metadata": {
      "needs_background": "light"
     },
     "output_type": "display_data"
    }
   ],
   "source": [
    "# vogliamo rappresentare quanti pokemon sono stati rilasciati per ogni generazione, in questo caso 8,\n",
    "\n",
    "from collections import Counter\n",
    "generations = filtered_pokemon_data.generation.values.tolist()\n",
    "generations = Counter(generations)\n",
    "plt.title(\"Quanti Pokemon nuovi sono stati rilasciati per Generazione\")\n",
    "plt.xlabel('Generazioni')\n",
    "plt.ylabel('Quantità di Pokemon')\n",
    "plt.bar(generations.keys(), generations.values(), width=0.5,)\n",
    "plt.show()"
   ],
   "metadata": {
    "collapsed": false,
    "pycharm": {
     "name": "#%%\n"
    }
   }
  },
  {
   "cell_type": "code",
   "execution_count": 76,
   "outputs": [
    {
     "data": {
      "text/plain": "<Figure size 432x288 with 1 Axes>",
      "image/png": "[encoded data removed]"
     },
     "metadata": {
      "needs_background": "light"
     },
     "output_type": "display_data"
    }
   ],
   "source": [
    "temp = list(generations.values())\n",
    "\n",
    "result = [\n",
    "    0,\n",
    "    temp[1] - temp[0],\n",
    "    temp[2] - temp[1],\n",
    "    temp[3] - temp[2],\n",
    "    temp[4] - temp[3],\n",
    "    temp[5] - temp[4],\n",
    "    temp[6] - temp[5],\n",
    "    temp[7] - temp[6]\n",
    "]\n",
    "plt.xlabel(\"Generazioni\")\n",
    "plt.ylabel('Quantità di \"Aggiunte\"')\n",
    "plt.bar(generations.keys(), result, width=0.7)\n",
    "plt.show()\n",
    "\n",
    "# si evince come nelle genereazioni \"dispari\", prendendo come punto 0 il numero di pokemon\n",
    "# della generazione 1, si abbia un maggior incremento di pokemon rispetto alle generazioni \"pari\""
   ],
   "metadata": {
    "collapsed": false,
    "pycharm": {
     "name": "#%%\n"
    }
   }
  },
  {
   "cell_type": "code",
   "execution_count": 77,
   "outputs": [
    {
     "data": {
      "text/plain": "Counter({1: 192, 2: 107, 3: 165, 4: 121, 5: 171, 6: 85, 7: 99, 8: 88})"
     },
     "execution_count": 77,
     "metadata": {},
     "output_type": "execute_result"
    }
   ],
   "source": [
    "generations"
   ],
   "metadata": {
    "collapsed": false,
    "pycharm": {
     "name": "#%%\n"
    }
   }
  },
  {
   "cell_type": "code",
   "execution_count": 100,
   "outputs": [
    {
     "data": {
      "text/plain": "<Figure size 432x288 with 1 Axes>",
      "image/png": "[encoded data removed]"
     },
     "metadata": {
      "needs_background": "light"
     },
     "output_type": "display_data"
    }
   ],
   "source": [
    "# Mettiamo a confronto l'incremento generazionale di pokemon con quanti sono stati effettivamente\n",
    "# aggiunti per generazione\n",
    "\n",
    "pkmn_x_generation = pd.Series(generations.values())\n",
    "\n",
    "total_pkmn_gen_to_gen = [np.array(list(generations.values())[:i]).sum() for i in generations.keys()]\n",
    "\n",
    "plt.bar(generations.keys(),total_pkmn_gen_to_gen)\n",
    "plt.bar(generations.keys(), generations.values())\n",
    "plt.show()"
   ],
   "metadata": {
    "collapsed": false,
    "pycharm": {
     "name": "#%%\n"
    }
   }
  },
  {
   "cell_type": "code",
   "execution_count": null,
   "outputs": [],
   "source": [],
   "metadata": {
    "collapsed": false,
    "pycharm": {
     "name": "#%%\n"
    }
   }
  }
 ],
 "metadata": {
  "kernelspec": {
   "display_name": "Python 3",
   "language": "python",
   "name": "python3"
  },
  "language_info": {
   "codemirror_mode": {
    "name": "ipython",
    "version": 3
   },
   "file_extension": ".py",
   "mimetype": "text/x-python",
   "name": "python",
   "nbconvert_exporter": "python",
   "pygments_lexer": "ipython3",
   "version": "3.10.4"
  },
  "orig_nbformat": 4,
  "vscode": {
   "interpreter": {
    "hash": "369f2c481f4da34e4445cda3fffd2e751bd1c4d706f27375911949ba6bb62e1c"
   }
  }
 },
 "nbformat": 4,
 "nbformat_minor": 2
}